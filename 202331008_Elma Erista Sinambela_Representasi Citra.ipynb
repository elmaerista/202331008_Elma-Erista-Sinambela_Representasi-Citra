{
 "cells": [
  {
   "cell_type": "markdown",
   "id": "c8b8d099-51c6-44e3-a3f0-8425c6d2a463",
   "metadata": {},
   "source": [
    "# Import Library\n"
   ]
  },
  {
   "cell_type": "code",
   "execution_count": 2,
   "id": "8413f678-3d5f-45ab-8740-33a01e5a003a",
   "metadata": {},
   "outputs": [],
   "source": [
    "import cv2\n",
    "import numpy as np #202331008_Elma Erista Sinambela"
   ]
  },
  {
   "cell_type": "markdown",
   "id": "24d90cc0-1369-428d-a536-b17d0c93b0da",
   "metadata": {},
   "source": [
    " # Membaca Citra"
   ]
  },
  {
   "cell_type": "code",
   "execution_count": 5,
   "id": "9ef9696c-23be-411e-b2b5-cf46e634f7f0",
   "metadata": {},
   "outputs": [],
   "source": [
    "citra = cv2.imread ('buah.png') #202331008_Elma Erista Sinambela"
   ]
  },
  {
   "cell_type": "code",
   "execution_count": 7,
   "id": "7dcc6188-a745-4195-ad89-586d74329132",
   "metadata": {},
   "outputs": [],
   "source": [
    "cv2.imshow(\"citra asli\", citra)\n",
    "cv2.waitKey(1)\n",
    "cv2.destroyAllWindows() #202331008_Elma Erista Sinambela"
   ]
  },
  {
   "cell_type": "markdown",
   "id": "c7e228f1-f6b9-4107-9b6d-0dc936701be6",
   "metadata": {},
   "source": [
    "# Dimensi Citra"
   ]
  },
  {
   "cell_type": "code",
   "execution_count": 12,
   "id": "b7d58a5e-b915-4bff-bfcc-6d1ec36b8ca4",
   "metadata": {},
   "outputs": [
    {
     "name": "stdout",
     "output_type": "stream",
     "text": [
      "(1200, 1200, 3)\n",
      "uint8\n"
     ]
    }
   ],
   "source": [
    "print(citra.shape)\n",
    "print(citra.dtype) #202331008_Elma Erista Sinambela"
   ]
  },
  {
   "cell_type": "markdown",
   "id": "19089369-87a4-4b69-ab93-766da6428d7e",
   "metadata": {},
   "source": [
    "# Splitting Citra RGB/BGR\n"
   ]
  },
  {
   "cell_type": "code",
   "execution_count": 15,
   "id": "170be630-eee7-4af9-887e-1b66610f1eaf",
   "metadata": {},
   "outputs": [],
   "source": [
    "b = citra [:,:,0]\n",
    "g = citra [:,:,1]\n",
    "r = citra [:,:,2] #202331008_Elma Erista Sinambela"
   ]
  },
  {
   "cell_type": "markdown",
   "id": "aba75e79-5d1b-4964-a6ff-5a7f5aaaa482",
   "metadata": {},
   "source": [
    "# RGB to Grayscale"
   ]
  },
  {
   "cell_type": "code",
   "execution_count": 22,
   "id": "8f112113-0651-40a1-880c-1cc1d980b564",
   "metadata": {},
   "outputs": [],
   "source": [
    "panjang = len(citra) #menghitung baris\n",
    "lebar = len(citra[0]) #menghitung kolom\n",
    "\n",
    "citra_gray = np.zeros((panjang,lebar))\n",
    "\n",
    "for i in range (panjang):\n",
    "    for j in range (lebar):\n",
    "        citra_gray[i,j] = 0.2989 * r[i,j] + 0.587 * g[i,j] + 0.1141 * b[i,j] #merah=29,89% ; hijau=58,7% ; biru=11,41%\n",
    "\n",
    "citra_gray = citra_gray.astype(np.uint8)\n",
    "\n",
    "cv2.imshow(\"citra grayscale\", citra_gray)\n",
    "cv2.waitKey(1)\n",
    "cv2.destroyAllWindows() #202331008_Elma Erista Sinambela"
   ]
  },
  {
   "cell_type": "code",
   "execution_count": 24,
   "id": "0bf688fb-f09c-4f23-8006-ac351577f98b",
   "metadata": {},
   "outputs": [
    {
     "name": "stdout",
     "output_type": "stream",
     "text": [
      "[[[107 208 243]\n",
      "  [ 98 207 249]\n",
      "  [ 87 204 255]\n",
      "  ...\n",
      "  [ 46  58 243]\n",
      "  [ 32  49 225]\n",
      "  [ 15  38 205]]\n",
      "\n",
      " [[100 212 247]\n",
      "  [ 93 210 251]\n",
      "  [ 84 206 254]\n",
      "  ...\n",
      "  [ 30  39 237]\n",
      "  [ 18  32 224]\n",
      "  [  9  28 214]]\n",
      "\n",
      " [[ 88 213 248]\n",
      "  [ 84 211 250]\n",
      "  [ 77 207 252]\n",
      "  ...\n",
      "  [ 15  22 235]\n",
      "  [ 10  20 231]\n",
      "  [ 11  24 232]]\n",
      "\n",
      " ...\n",
      "\n",
      " [[  4 135 236]\n",
      "  [  4 136 237]\n",
      "  [  3 136 237]\n",
      "  ...\n",
      "  [  0   0  11]\n",
      "  [  0   0  11]\n",
      "  [  0   0  10]]\n",
      "\n",
      " [[  6 133 233]\n",
      "  [  5 135 235]\n",
      "  [  4 137 236]\n",
      "  ...\n",
      "  [  1   1  15]\n",
      "  [  2   2  15]\n",
      "  [  2   2  16]]\n",
      "\n",
      " [[ 11 134 233]\n",
      "  [  9 136 235]\n",
      "  [  5 137 235]\n",
      "  ...\n",
      "  [  1   1  16]\n",
      "  [  4   3  19]\n",
      "  [  7   6  22]]]\n"
     ]
    }
   ],
   "source": [
    "print(citra) #202331008_Elma Erista Sinambela"
   ]
  },
  {
   "cell_type": "code",
   "execution_count": 26,
   "id": "5eae3581-ffe8-407f-8dab-6eb3ea61302e",
   "metadata": {},
   "outputs": [
    {
     "name": "stdout",
     "output_type": "stream",
     "text": [
      "[[206 207 205 ... 111  99  85]\n",
      " [209 208 206 ...  97  87  81]\n",
      " [209 208 205 ...  84  81  84]\n",
      " ...\n",
      " [150 151 151 ...   3   3   2]\n",
      " [148 150 151 ...   5   5   6]\n",
      " [149 151 151 ...   5   7  10]]\n"
     ]
    }
   ],
   "source": [
    "print(citra_gray) #202331008_Elma Erista Sinambela"
   ]
  },
  {
   "cell_type": "markdown",
   "id": "0ff9633b-f7dc-4c33-814b-4d4d4c7cfcbf",
   "metadata": {},
   "source": [
    "# Grayscale to Binary"
   ]
  },
  {
   "cell_type": "code",
   "execution_count": 33,
   "id": "64680ee6-baf8-428d-b5c7-d9c356e8306c",
   "metadata": {},
   "outputs": [],
   "source": [
    "panjang = len(citra) #menghitung baris\n",
    "lebar = len(citra[0]) #menghitung kolom\n",
    "\n",
    "ambang = 90\n",
    "citra_biner = np.zeros((panjang,lebar))\n",
    "\n",
    "for i in range (panjang):\n",
    "    for j in range (lebar):\n",
    "        if citra_gray[i,j] >= ambang:\n",
    "            citra_biner[i,j] = 1 #putih\n",
    "    else:\n",
    "        citra_biner[i,j] = 0 #hitam\n",
    "        \n",
    "\n",
    "cv2.imshow(\"citra binary\", citra_biner)\n",
    "cv2.waitKey(1)\n",
    "cv2.destroyAllWindows() #202331008_Elma Erista Sinambela"
   ]
  },
  {
   "cell_type": "code",
   "execution_count": 31,
   "id": "602041c7-92e3-4b46-984e-a8cf3f818db7",
   "metadata": {},
   "outputs": [
    {
     "name": "stdout",
     "output_type": "stream",
     "text": [
      "[[1. 1. 1. ... 1. 1. 0.]\n",
      " [1. 1. 1. ... 1. 0. 0.]\n",
      " [1. 1. 1. ... 0. 0. 0.]\n",
      " ...\n",
      " [1. 1. 1. ... 0. 0. 0.]\n",
      " [1. 1. 1. ... 0. 0. 0.]\n",
      " [1. 1. 1. ... 0. 0. 0.]]\n"
     ]
    }
   ],
   "source": [
    "print(citra_biner) #202331008_Elma Erista Sinambela"
   ]
  },
  {
   "cell_type": "code",
   "execution_count": null,
   "id": "9f395c3f-977e-45ba-ab87-0358e172f9b8",
   "metadata": {},
   "outputs": [],
   "source": []
  }
 ],
 "metadata": {
  "kernelspec": {
   "display_name": "Python [conda env:base] *",
   "language": "python",
   "name": "conda-base-py"
  },
  "language_info": {
   "codemirror_mode": {
    "name": "ipython",
    "version": 3
   },
   "file_extension": ".py",
   "mimetype": "text/x-python",
   "name": "python",
   "nbconvert_exporter": "python",
   "pygments_lexer": "ipython3",
   "version": "3.12.7"
  }
 },
 "nbformat": 4,
 "nbformat_minor": 5
}
